{
 "cells": [
  {
   "cell_type": "code",
   "execution_count": 20,
   "metadata": {},
   "outputs": [
    {
     "ename": "SyntaxError",
     "evalue": "invalid syntax (<ipython-input-20-a9b9323364ba>, line 14)",
     "output_type": "error",
     "traceback": [
      "\u001b[1;36m  File \u001b[1;32m\"<ipython-input-20-a9b9323364ba>\"\u001b[1;36m, line \u001b[1;32m14\u001b[0m\n\u001b[1;33m    keyword = SELECT * FROM article WHERE article_content LIKE \"%이명박%\"\u001b[0m\n\u001b[1;37m                                  ^\u001b[0m\n\u001b[1;31mSyntaxError\u001b[0m\u001b[1;31m:\u001b[0m invalid syntax\n"
     ]
    }
   ],
   "source": [
    "def graph(query):\n",
    "    \n",
    "    %matplotlib notebook\n",
    "    import matplotlib.pyplot as plt\n",
    "    import numpy\n",
    "    from numpy import sin\n",
    "    from numpy import cos\n",
    "    import pandas as pd\n",
    "    import cx_Oracle as oci\n",
    "    from datetime import datetime\n",
    "    \n",
    "    #DB Connecion    \n",
    "    conn = oci.connect(\"test/1234@192.168.0.52:32764/xe\", charset='utf8')\n",
    "    cursor.execute(\"selet count(*) from article\")\n",
    "    \n",
    "    #timestamp 추가\n",
    "    df['timestamp'] = pd.to_datetime(df[\"일자\"],format='%Y%m%d', errors='ignore')\n",
    "    df['timestamp']\n",
    "\n",
    "    #timestamp 3개로 나누기\n",
    "    df['year'] = df[\"timestamp\"].dt.year\n",
    "    df['month'] = df[\"timestamp\"].dt.month\n",
    "    df['day'] = df[\"timestamp\"].dt.day\n",
    "\n",
    "    #날짜 str로 바꾸기 왠지몰라\n",
    "    df['year'] = df['year'].astype(int)\n",
    "    df['month'] = df['month'].astype(int)\n",
    "    df['day'] = df['day'].astype(int)\n",
    "\n",
    "    #DB Connecion 해서 가져오기\n",
    "    keyword = SELECT * FROM article WHERE article_content LIKE \"%이명박%\" \n",
    "    period = SELECT * FROM article WHERE month < %s% AND month > %% ORDER BY DATE;\n",
    "    SELECT hire_date, article_date, EXTRACT(YEAR FROM (SYSDATE-hire_date) YEAR TO MONTH) \"Years\" \n",
    "  2  FROM employees WHERE ROWNUM <= 5;\n",
    "    SELECT article_date FROM v$nls_parameters WHERE REGEXP_LIKE(parameter, 'NLS_(DATE|TIME).*');\n",
    "    \n",
    "    \n",
    "    for row in cursor:\n",
    "        total = row[0]\n",
    "    t=np.arrange(total)\n",
    "    cursor.execute(\"select article_content, article_date from article\")\n",
    "    keyword = []\n",
    "    period = []\n",
    "    \n",
    "    for row in cursor:\n",
    "        keyword.append(row[0])\n",
    "        period.append(row[1])\n",
    "    bar_with = 0.3\n",
    "    try:\n",
    "        with conn.cursor() as curs:\n",
    "            #디비에서 article_sample 가져오기\n",
    "            sql = \"'select * from article_sample'\"\n",
    "            #화면에 출력\n",
    "            curs.execute(sql)\n",
    "            rs = curs.fetchall()\n",
    "            for row in rs:\n",
    "                print(row)\n",
    "    finally:\n",
    "        conn.close()\n",
    "\n",
    "        \n",
    "\n",
    "        "
   ]
  },
  {
   "cell_type": "code",
   "execution_count": 18,
   "metadata": {},
   "outputs": [
    {
     "ename": "NameError",
     "evalue": "name 'rs' is not defined",
     "output_type": "error",
     "traceback": [
      "\u001b[1;31m---------------------------------------------------------------------------\u001b[0m",
      "\u001b[1;31mNameError\u001b[0m                                 Traceback (most recent call last)",
      "\u001b[1;32m<ipython-input-18-16694da3ba0e>\u001b[0m in \u001b[0;36m<module>\u001b[1;34m\u001b[0m\n\u001b[1;32m----> 1\u001b[1;33m \u001b[0mprint\u001b[0m\u001b[1;33m(\u001b[0m\u001b[0mquery_OracleSQL\u001b[0m\u001b[1;33m,\u001b[0m \u001b[0mrs\u001b[0m\u001b[1;33m)\u001b[0m\u001b[1;33m\u001b[0m\u001b[1;33m\u001b[0m\u001b[0m\n\u001b[0m",
      "\u001b[1;31mNameError\u001b[0m: name 'rs' is not defined"
     ]
    }
   ],
   "source": [
    "        if searchtype == 'title':\n",
    "            a = B_list.objects.filter(title__icontains=searchkeyword)"
   ]
  },
  {
   "cell_type": "code",
   "execution_count": null,
   "metadata": {},
   "outputs": [],
   "source": []
  }
 ],
 "metadata": {
  "kernelspec": {
   "display_name": "Python 3",
   "language": "python",
   "name": "python3"
  },
  "language_info": {
   "codemirror_mode": {
    "name": "ipython",
    "version": 3
   },
   "file_extension": ".py",
   "mimetype": "text/x-python",
   "name": "python",
   "nbconvert_exporter": "python",
   "pygments_lexer": "ipython3",
   "version": "3.7.4"
  }
 },
 "nbformat": 4,
 "nbformat_minor": 2
}
